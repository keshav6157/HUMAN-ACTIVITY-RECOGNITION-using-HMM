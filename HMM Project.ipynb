{
 "cells": [
  {
   "cell_type": "code",
   "execution_count": 57,
   "id": "waiting-adapter",
   "metadata": {},
   "outputs": [],
   "source": [
    "import pandas as pd\n",
    "import numpy as np\n",
    "from sklearn.decomposition import PCA\n",
    "from sklearn.metrics import f1_score, accuracy_score\n",
    "import matplotlib.pyplot as plt"
   ]
  },
  {
   "cell_type": "code",
   "execution_count": 58,
   "id": "sharing-sandwich",
   "metadata": {},
   "outputs": [],
   "source": [
    "df_train = pd.read_csv(\"train.csv\")\n",
    "df_test = pd.read_csv(\"test.csv\")"
   ]
  },
  {
   "cell_type": "code",
   "execution_count": 59,
   "id": "headed-apache",
   "metadata": {},
   "outputs": [
    {
     "data": {
      "text/html": [
       "<div>\n",
       "<style scoped>\n",
       "    .dataframe tbody tr th:only-of-type {\n",
       "        vertical-align: middle;\n",
       "    }\n",
       "\n",
       "    .dataframe tbody tr th {\n",
       "        vertical-align: top;\n",
       "    }\n",
       "\n",
       "    .dataframe thead th {\n",
       "        text-align: right;\n",
       "    }\n",
       "</style>\n",
       "<table border=\"1\" class=\"dataframe\">\n",
       "  <thead>\n",
       "    <tr style=\"text-align: right;\">\n",
       "      <th></th>\n",
       "      <th>tBodyAcc-mean()-X</th>\n",
       "      <th>tBodyAcc-mean()-Y</th>\n",
       "      <th>tBodyAcc-mean()-Z</th>\n",
       "      <th>tBodyAcc-std()-X</th>\n",
       "      <th>tBodyAcc-std()-Y</th>\n",
       "      <th>tBodyAcc-std()-Z</th>\n",
       "      <th>tBodyAcc-mad()-X</th>\n",
       "      <th>tBodyAcc-mad()-Y</th>\n",
       "      <th>tBodyAcc-mad()-Z</th>\n",
       "      <th>tBodyAcc-max()-X</th>\n",
       "      <th>...</th>\n",
       "      <th>fBodyBodyGyroJerkMag-kurtosis()</th>\n",
       "      <th>angle(tBodyAccMean,gravity)</th>\n",
       "      <th>angle(tBodyAccJerkMean),gravityMean)</th>\n",
       "      <th>angle(tBodyGyroMean,gravityMean)</th>\n",
       "      <th>angle(tBodyGyroJerkMean,gravityMean)</th>\n",
       "      <th>angle(X,gravityMean)</th>\n",
       "      <th>angle(Y,gravityMean)</th>\n",
       "      <th>angle(Z,gravityMean)</th>\n",
       "      <th>subject</th>\n",
       "      <th>Activity</th>\n",
       "    </tr>\n",
       "  </thead>\n",
       "  <tbody>\n",
       "    <tr>\n",
       "      <th>0</th>\n",
       "      <td>0.288585</td>\n",
       "      <td>-0.020294</td>\n",
       "      <td>-0.132905</td>\n",
       "      <td>-0.995279</td>\n",
       "      <td>-0.983111</td>\n",
       "      <td>-0.913526</td>\n",
       "      <td>-0.995112</td>\n",
       "      <td>-0.983185</td>\n",
       "      <td>-0.923527</td>\n",
       "      <td>-0.934724</td>\n",
       "      <td>...</td>\n",
       "      <td>-0.710304</td>\n",
       "      <td>-0.112754</td>\n",
       "      <td>0.030400</td>\n",
       "      <td>-0.464761</td>\n",
       "      <td>-0.018446</td>\n",
       "      <td>-0.841247</td>\n",
       "      <td>0.179941</td>\n",
       "      <td>-0.058627</td>\n",
       "      <td>1</td>\n",
       "      <td>STANDING</td>\n",
       "    </tr>\n",
       "    <tr>\n",
       "      <th>1</th>\n",
       "      <td>0.278419</td>\n",
       "      <td>-0.016411</td>\n",
       "      <td>-0.123520</td>\n",
       "      <td>-0.998245</td>\n",
       "      <td>-0.975300</td>\n",
       "      <td>-0.960322</td>\n",
       "      <td>-0.998807</td>\n",
       "      <td>-0.974914</td>\n",
       "      <td>-0.957686</td>\n",
       "      <td>-0.943068</td>\n",
       "      <td>...</td>\n",
       "      <td>-0.861499</td>\n",
       "      <td>0.053477</td>\n",
       "      <td>-0.007435</td>\n",
       "      <td>-0.732626</td>\n",
       "      <td>0.703511</td>\n",
       "      <td>-0.844788</td>\n",
       "      <td>0.180289</td>\n",
       "      <td>-0.054317</td>\n",
       "      <td>1</td>\n",
       "      <td>STANDING</td>\n",
       "    </tr>\n",
       "    <tr>\n",
       "      <th>2</th>\n",
       "      <td>0.279653</td>\n",
       "      <td>-0.019467</td>\n",
       "      <td>-0.113462</td>\n",
       "      <td>-0.995380</td>\n",
       "      <td>-0.967187</td>\n",
       "      <td>-0.978944</td>\n",
       "      <td>-0.996520</td>\n",
       "      <td>-0.963668</td>\n",
       "      <td>-0.977469</td>\n",
       "      <td>-0.938692</td>\n",
       "      <td>...</td>\n",
       "      <td>-0.760104</td>\n",
       "      <td>-0.118559</td>\n",
       "      <td>0.177899</td>\n",
       "      <td>0.100699</td>\n",
       "      <td>0.808529</td>\n",
       "      <td>-0.848933</td>\n",
       "      <td>0.180637</td>\n",
       "      <td>-0.049118</td>\n",
       "      <td>1</td>\n",
       "      <td>STANDING</td>\n",
       "    </tr>\n",
       "    <tr>\n",
       "      <th>3</th>\n",
       "      <td>0.279174</td>\n",
       "      <td>-0.026201</td>\n",
       "      <td>-0.123283</td>\n",
       "      <td>-0.996091</td>\n",
       "      <td>-0.983403</td>\n",
       "      <td>-0.990675</td>\n",
       "      <td>-0.997099</td>\n",
       "      <td>-0.982750</td>\n",
       "      <td>-0.989302</td>\n",
       "      <td>-0.938692</td>\n",
       "      <td>...</td>\n",
       "      <td>-0.482845</td>\n",
       "      <td>-0.036788</td>\n",
       "      <td>-0.012892</td>\n",
       "      <td>0.640011</td>\n",
       "      <td>-0.485366</td>\n",
       "      <td>-0.848649</td>\n",
       "      <td>0.181935</td>\n",
       "      <td>-0.047663</td>\n",
       "      <td>1</td>\n",
       "      <td>STANDING</td>\n",
       "    </tr>\n",
       "    <tr>\n",
       "      <th>4</th>\n",
       "      <td>0.276629</td>\n",
       "      <td>-0.016570</td>\n",
       "      <td>-0.115362</td>\n",
       "      <td>-0.998139</td>\n",
       "      <td>-0.980817</td>\n",
       "      <td>-0.990482</td>\n",
       "      <td>-0.998321</td>\n",
       "      <td>-0.979672</td>\n",
       "      <td>-0.990441</td>\n",
       "      <td>-0.942469</td>\n",
       "      <td>...</td>\n",
       "      <td>-0.699205</td>\n",
       "      <td>0.123320</td>\n",
       "      <td>0.122542</td>\n",
       "      <td>0.693578</td>\n",
       "      <td>-0.615971</td>\n",
       "      <td>-0.847865</td>\n",
       "      <td>0.185151</td>\n",
       "      <td>-0.043892</td>\n",
       "      <td>1</td>\n",
       "      <td>STANDING</td>\n",
       "    </tr>\n",
       "  </tbody>\n",
       "</table>\n",
       "<p>5 rows × 563 columns</p>\n",
       "</div>"
      ],
      "text/plain": [
       "   tBodyAcc-mean()-X  tBodyAcc-mean()-Y  tBodyAcc-mean()-Z  tBodyAcc-std()-X  \\\n",
       "0           0.288585          -0.020294          -0.132905         -0.995279   \n",
       "1           0.278419          -0.016411          -0.123520         -0.998245   \n",
       "2           0.279653          -0.019467          -0.113462         -0.995380   \n",
       "3           0.279174          -0.026201          -0.123283         -0.996091   \n",
       "4           0.276629          -0.016570          -0.115362         -0.998139   \n",
       "\n",
       "   tBodyAcc-std()-Y  tBodyAcc-std()-Z  tBodyAcc-mad()-X  tBodyAcc-mad()-Y  \\\n",
       "0         -0.983111         -0.913526         -0.995112         -0.983185   \n",
       "1         -0.975300         -0.960322         -0.998807         -0.974914   \n",
       "2         -0.967187         -0.978944         -0.996520         -0.963668   \n",
       "3         -0.983403         -0.990675         -0.997099         -0.982750   \n",
       "4         -0.980817         -0.990482         -0.998321         -0.979672   \n",
       "\n",
       "   tBodyAcc-mad()-Z  tBodyAcc-max()-X  ...  fBodyBodyGyroJerkMag-kurtosis()  \\\n",
       "0         -0.923527         -0.934724  ...                        -0.710304   \n",
       "1         -0.957686         -0.943068  ...                        -0.861499   \n",
       "2         -0.977469         -0.938692  ...                        -0.760104   \n",
       "3         -0.989302         -0.938692  ...                        -0.482845   \n",
       "4         -0.990441         -0.942469  ...                        -0.699205   \n",
       "\n",
       "   angle(tBodyAccMean,gravity)  angle(tBodyAccJerkMean),gravityMean)  \\\n",
       "0                    -0.112754                              0.030400   \n",
       "1                     0.053477                             -0.007435   \n",
       "2                    -0.118559                              0.177899   \n",
       "3                    -0.036788                             -0.012892   \n",
       "4                     0.123320                              0.122542   \n",
       "\n",
       "   angle(tBodyGyroMean,gravityMean)  angle(tBodyGyroJerkMean,gravityMean)  \\\n",
       "0                         -0.464761                             -0.018446   \n",
       "1                         -0.732626                              0.703511   \n",
       "2                          0.100699                              0.808529   \n",
       "3                          0.640011                             -0.485366   \n",
       "4                          0.693578                             -0.615971   \n",
       "\n",
       "   angle(X,gravityMean)  angle(Y,gravityMean)  angle(Z,gravityMean)  subject  \\\n",
       "0             -0.841247              0.179941             -0.058627        1   \n",
       "1             -0.844788              0.180289             -0.054317        1   \n",
       "2             -0.848933              0.180637             -0.049118        1   \n",
       "3             -0.848649              0.181935             -0.047663        1   \n",
       "4             -0.847865              0.185151             -0.043892        1   \n",
       "\n",
       "   Activity  \n",
       "0  STANDING  \n",
       "1  STANDING  \n",
       "2  STANDING  \n",
       "3  STANDING  \n",
       "4  STANDING  \n",
       "\n",
       "[5 rows x 563 columns]"
      ]
     },
     "execution_count": 59,
     "metadata": {},
     "output_type": "execute_result"
    }
   ],
   "source": [
    "df_train.head()"
   ]
  },
  {
   "cell_type": "code",
   "execution_count": 60,
   "id": "metropolitan-jordan",
   "metadata": {},
   "outputs": [],
   "source": [
    "data = df_train.iloc[:, :-1].values\n",
    "cov = np.cov(data, rowvar = False)"
   ]
  },
  {
   "cell_type": "code",
   "execution_count": 61,
   "id": "thirty-theater",
   "metadata": {},
   "outputs": [
    {
     "data": {
      "text/plain": [
       "array([[ 4.93665487e-03,  4.24551585e-04, -1.02247916e-03, ...,\n",
       "         7.18410283e-04,  5.53862712e-04,  1.52487588e-02],\n",
       "       [ 4.24551585e-04,  1.66549892e-03, -1.82059313e-04, ...,\n",
       "         1.27823494e-05, -1.58369457e-04, -1.15170019e-03],\n",
       "       [-1.02247916e-03, -1.82059313e-04,  3.20754453e-03, ...,\n",
       "        -2.57574825e-04, -3.57948826e-04, -3.23975472e-04],\n",
       "       ...,\n",
       "       [ 7.18410283e-04,  1.27823494e-05, -2.57574825e-04, ...,\n",
       "         8.84943711e-02,  4.93952357e-02, -2.62439903e-02],\n",
       "       [ 5.53862712e-04, -1.58369457e-04, -3.57948826e-04, ...,\n",
       "         4.93952357e-02,  7.79092165e-02, -2.47289212e-01],\n",
       "       [ 1.52487588e-02, -1.15170019e-03, -3.23975472e-04, ...,\n",
       "        -2.62439903e-02, -2.47289212e-01,  8.05531848e+01]])"
      ]
     },
     "execution_count": 61,
     "metadata": {},
     "output_type": "execute_result"
    }
   ],
   "source": [
    "cov"
   ]
  },
  {
   "cell_type": "code",
   "execution_count": 62,
   "id": "technological-suite",
   "metadata": {},
   "outputs": [
    {
     "data": {
      "text/plain": [
       "0.0"
      ]
     },
     "execution_count": 62,
     "metadata": {},
     "output_type": "execute_result"
    }
   ],
   "source": [
    "np.linalg.det(cov)"
   ]
  },
  {
   "cell_type": "code",
   "execution_count": 63,
   "id": "acting-cameroon",
   "metadata": {},
   "outputs": [],
   "source": [
    "pca = PCA(n_components = 100)\n",
    "cov_pca = pca.fit(df_train.iloc[:, :-1].values)"
   ]
  },
  {
   "cell_type": "code",
   "execution_count": 64,
   "id": "instant-private",
   "metadata": {},
   "outputs": [],
   "source": [
    "data_train = cov_pca.transform(df_train.iloc[:, :-1].values)\n",
    "data_test = cov_pca.transform(df_test.iloc[:, :-1].values)"
   ]
  },
  {
   "cell_type": "code",
   "execution_count": 65,
   "id": "pediatric-helping",
   "metadata": {},
   "outputs": [],
   "source": [
    "df_train_red = pd.DataFrame(data_train)\n",
    "df_train_red[\"Activity\"] = df_train[\"Activity\"]"
   ]
  },
  {
   "cell_type": "code",
   "execution_count": 66,
   "id": "headed-reunion",
   "metadata": {},
   "outputs": [
    {
     "data": {
      "text/html": [
       "<div>\n",
       "<style scoped>\n",
       "    .dataframe tbody tr th:only-of-type {\n",
       "        vertical-align: middle;\n",
       "    }\n",
       "\n",
       "    .dataframe tbody tr th {\n",
       "        vertical-align: top;\n",
       "    }\n",
       "\n",
       "    .dataframe thead th {\n",
       "        text-align: right;\n",
       "    }\n",
       "</style>\n",
       "<table border=\"1\" class=\"dataframe\">\n",
       "  <thead>\n",
       "    <tr style=\"text-align: right;\">\n",
       "      <th></th>\n",
       "      <th>0</th>\n",
       "      <th>1</th>\n",
       "      <th>2</th>\n",
       "      <th>3</th>\n",
       "      <th>4</th>\n",
       "      <th>5</th>\n",
       "      <th>6</th>\n",
       "      <th>7</th>\n",
       "      <th>8</th>\n",
       "      <th>9</th>\n",
       "      <th>...</th>\n",
       "      <th>91</th>\n",
       "      <th>92</th>\n",
       "      <th>93</th>\n",
       "      <th>94</th>\n",
       "      <th>95</th>\n",
       "      <th>96</th>\n",
       "      <th>97</th>\n",
       "      <th>98</th>\n",
       "      <th>99</th>\n",
       "      <th>Activity</th>\n",
       "    </tr>\n",
       "  </thead>\n",
       "  <tbody>\n",
       "    <tr>\n",
       "      <th>0</th>\n",
       "      <td>15.727224</td>\n",
       "      <td>-7.246259</td>\n",
       "      <td>-0.465589</td>\n",
       "      <td>-1.453681</td>\n",
       "      <td>1.419954</td>\n",
       "      <td>1.488152</td>\n",
       "      <td>-0.306350</td>\n",
       "      <td>0.457409</td>\n",
       "      <td>0.523195</td>\n",
       "      <td>-1.138726</td>\n",
       "      <td>...</td>\n",
       "      <td>-0.157028</td>\n",
       "      <td>-0.053790</td>\n",
       "      <td>-0.178523</td>\n",
       "      <td>0.033260</td>\n",
       "      <td>-0.121519</td>\n",
       "      <td>0.124503</td>\n",
       "      <td>-0.127123</td>\n",
       "      <td>0.102954</td>\n",
       "      <td>0.285576</td>\n",
       "      <td>STANDING</td>\n",
       "    </tr>\n",
       "    <tr>\n",
       "      <th>1</th>\n",
       "      <td>15.723317</td>\n",
       "      <td>-7.260690</td>\n",
       "      <td>-0.259002</td>\n",
       "      <td>-1.850986</td>\n",
       "      <td>0.753819</td>\n",
       "      <td>0.720199</td>\n",
       "      <td>0.685615</td>\n",
       "      <td>-0.655772</td>\n",
       "      <td>-0.919083</td>\n",
       "      <td>-0.449042</td>\n",
       "      <td>...</td>\n",
       "      <td>-0.102360</td>\n",
       "      <td>-0.006800</td>\n",
       "      <td>-0.123497</td>\n",
       "      <td>0.009937</td>\n",
       "      <td>-0.074680</td>\n",
       "      <td>0.084613</td>\n",
       "      <td>-0.039035</td>\n",
       "      <td>0.103179</td>\n",
       "      <td>0.021316</td>\n",
       "      <td>STANDING</td>\n",
       "    </tr>\n",
       "    <tr>\n",
       "      <th>2</th>\n",
       "      <td>15.742570</td>\n",
       "      <td>-7.204006</td>\n",
       "      <td>0.106483</td>\n",
       "      <td>-2.071934</td>\n",
       "      <td>0.621699</td>\n",
       "      <td>0.256556</td>\n",
       "      <td>-0.109675</td>\n",
       "      <td>-0.016776</td>\n",
       "      <td>-0.017898</td>\n",
       "      <td>0.053206</td>\n",
       "      <td>...</td>\n",
       "      <td>0.022522</td>\n",
       "      <td>0.137793</td>\n",
       "      <td>-0.132534</td>\n",
       "      <td>-0.027281</td>\n",
       "      <td>-0.236393</td>\n",
       "      <td>-0.037576</td>\n",
       "      <td>-0.132601</td>\n",
       "      <td>-0.024301</td>\n",
       "      <td>-0.037011</td>\n",
       "      <td>STANDING</td>\n",
       "    </tr>\n",
       "    <tr>\n",
       "      <th>3</th>\n",
       "      <td>15.715666</td>\n",
       "      <td>-7.403807</td>\n",
       "      <td>0.719931</td>\n",
       "      <td>-1.951593</td>\n",
       "      <td>0.233804</td>\n",
       "      <td>0.800208</td>\n",
       "      <td>1.036670</td>\n",
       "      <td>-0.280322</td>\n",
       "      <td>-0.804074</td>\n",
       "      <td>0.420023</td>\n",
       "      <td>...</td>\n",
       "      <td>0.542873</td>\n",
       "      <td>0.721372</td>\n",
       "      <td>0.855468</td>\n",
       "      <td>-0.327006</td>\n",
       "      <td>0.277605</td>\n",
       "      <td>0.021160</td>\n",
       "      <td>-0.099517</td>\n",
       "      <td>-0.127841</td>\n",
       "      <td>0.622596</td>\n",
       "      <td>STANDING</td>\n",
       "    </tr>\n",
       "    <tr>\n",
       "      <th>4</th>\n",
       "      <td>15.703153</td>\n",
       "      <td>-7.473707</td>\n",
       "      <td>0.987220</td>\n",
       "      <td>-2.076101</td>\n",
       "      <td>0.282271</td>\n",
       "      <td>0.511927</td>\n",
       "      <td>0.415493</td>\n",
       "      <td>-0.189274</td>\n",
       "      <td>-0.172830</td>\n",
       "      <td>0.382604</td>\n",
       "      <td>...</td>\n",
       "      <td>0.034992</td>\n",
       "      <td>-0.033523</td>\n",
       "      <td>-0.065215</td>\n",
       "      <td>-0.013547</td>\n",
       "      <td>-0.144103</td>\n",
       "      <td>-0.221955</td>\n",
       "      <td>-0.011256</td>\n",
       "      <td>0.108150</td>\n",
       "      <td>0.064498</td>\n",
       "      <td>STANDING</td>\n",
       "    </tr>\n",
       "  </tbody>\n",
       "</table>\n",
       "<p>5 rows × 101 columns</p>\n",
       "</div>"
      ],
      "text/plain": [
       "           0         1         2         3         4         5         6  \\\n",
       "0  15.727224 -7.246259 -0.465589 -1.453681  1.419954  1.488152 -0.306350   \n",
       "1  15.723317 -7.260690 -0.259002 -1.850986  0.753819  0.720199  0.685615   \n",
       "2  15.742570 -7.204006  0.106483 -2.071934  0.621699  0.256556 -0.109675   \n",
       "3  15.715666 -7.403807  0.719931 -1.951593  0.233804  0.800208  1.036670   \n",
       "4  15.703153 -7.473707  0.987220 -2.076101  0.282271  0.511927  0.415493   \n",
       "\n",
       "          7         8         9  ...        91        92        93        94  \\\n",
       "0  0.457409  0.523195 -1.138726  ... -0.157028 -0.053790 -0.178523  0.033260   \n",
       "1 -0.655772 -0.919083 -0.449042  ... -0.102360 -0.006800 -0.123497  0.009937   \n",
       "2 -0.016776 -0.017898  0.053206  ...  0.022522  0.137793 -0.132534 -0.027281   \n",
       "3 -0.280322 -0.804074  0.420023  ...  0.542873  0.721372  0.855468 -0.327006   \n",
       "4 -0.189274 -0.172830  0.382604  ...  0.034992 -0.033523 -0.065215 -0.013547   \n",
       "\n",
       "         95        96        97        98        99  Activity  \n",
       "0 -0.121519  0.124503 -0.127123  0.102954  0.285576  STANDING  \n",
       "1 -0.074680  0.084613 -0.039035  0.103179  0.021316  STANDING  \n",
       "2 -0.236393 -0.037576 -0.132601 -0.024301 -0.037011  STANDING  \n",
       "3  0.277605  0.021160 -0.099517 -0.127841  0.622596  STANDING  \n",
       "4 -0.144103 -0.221955 -0.011256  0.108150  0.064498  STANDING  \n",
       "\n",
       "[5 rows x 101 columns]"
      ]
     },
     "execution_count": 66,
     "metadata": {},
     "output_type": "execute_result"
    }
   ],
   "source": [
    "df_train_red.head()"
   ]
  },
  {
   "cell_type": "code",
   "execution_count": 67,
   "id": "younger-toolbox",
   "metadata": {},
   "outputs": [],
   "source": [
    "df_train_red_STAND = df_train_red[df_train_red[\"Activity\"] == \"STANDING\"]\n",
    "df_train_red_SIT = df_train_red[df_train_red[\"Activity\"] == \"SITTING\"]\n",
    "df_train_red_WALK = df_train_red[df_train_red[\"Activity\"] == \"WALKING\"]\n",
    "df_train_red_LAY = df_train_red[df_train_red[\"Activity\"] == \"LAYING\"]\n",
    "df_train_red_WALK_D = df_train_red[df_train_red[\"Activity\"] == \"WALKING_DOWNSTAIRS\"]\n",
    "df_train_red_WALK_U = df_train_red[df_train_red[\"Activity\"] == \"WALKING_UPSTAIRS\"]"
   ]
  },
  {
   "cell_type": "code",
   "execution_count": 68,
   "id": "strange-middle",
   "metadata": {},
   "outputs": [
    {
     "name": "stdout",
     "output_type": "stream",
     "text": [
      "(1286, 101)\n"
     ]
    }
   ],
   "source": [
    "print(df_train_red_SIT.shape)"
   ]
  },
  {
   "cell_type": "code",
   "execution_count": 69,
   "id": "robust-depression",
   "metadata": {},
   "outputs": [],
   "source": [
    "df_test.dropna(inplace = True)"
   ]
  },
  {
   "cell_type": "code",
   "execution_count": 70,
   "id": "mature-significance",
   "metadata": {},
   "outputs": [],
   "source": [
    "df_test_red = pd.DataFrame(data_test)\n",
    "df_test_red[\"Activity\"] = df_test[\"Activity\"]"
   ]
  },
  {
   "cell_type": "code",
   "execution_count": 71,
   "id": "brilliant-dealing",
   "metadata": {},
   "outputs": [
    {
     "data": {
      "text/plain": [
       "(2947, 101)"
      ]
     },
     "execution_count": 71,
     "metadata": {},
     "output_type": "execute_result"
    }
   ],
   "source": [
    "df_test_red.shape"
   ]
  },
  {
   "cell_type": "code",
   "execution_count": 72,
   "id": "arabic-queensland",
   "metadata": {},
   "outputs": [
    {
     "data": {
      "text/plain": [
       "(2947,)"
      ]
     },
     "execution_count": 72,
     "metadata": {},
     "output_type": "execute_result"
    }
   ],
   "source": [
    "# Calculating true labels\n",
    "labels_true = []\n",
    "for i in range(len(df_test_red)):\n",
    "    if (df_test_red['Activity'].iloc[i] == 'STANDING'):\n",
    "        labels_true.append(0)\n",
    "    if (df_test_red['Activity'].iloc[i] == 'SITTING'):\n",
    "        labels_true.append(1)\n",
    "    if (df_test_red['Activity'].iloc[i] == 'LAYING'):\n",
    "        labels_true.append(2)\n",
    "    if (df_test_red['Activity'].iloc[i] == 'WALKING'):\n",
    "        labels_true.append(3)\n",
    "    if (df_test_red['Activity'].iloc[i] == 'WALKING_UPSTAIRS'):\n",
    "        labels_true.append(4)\n",
    "    if (df_test_red['Activity'].iloc[i] == 'WALKING_DOWNSTAIRS'):\n",
    "        labels_true.append(5)\n",
    "labels_true = np.array(labels_true)\n",
    "labels_true.shape"
   ]
  },
  {
   "cell_type": "code",
   "execution_count": 73,
   "id": "brave-receipt",
   "metadata": {},
   "outputs": [
    {
     "name": "stdout",
     "output_type": "stream",
     "text": [
      "Requirement already satisfied: hmmlearn in c:\\users\\keshav anand\\appdata\\local\\programs\\python\\python37\\lib\\site-packages (0.2.6)\n",
      "Requirement already satisfied: scipy>=0.19 in c:\\users\\keshav anand\\appdata\\local\\programs\\python\\python37\\lib\\site-packages (from hmmlearn) (1.7.1)\n",
      "Requirement already satisfied: scikit-learn>=0.16 in c:\\users\\keshav anand\\appdata\\local\\programs\\python\\python37\\lib\\site-packages (from hmmlearn) (0.24.2)\n",
      "Requirement already satisfied: numpy>=1.10 in c:\\users\\keshav anand\\appdata\\roaming\\python\\python37\\site-packages (from hmmlearn) (1.20.1)\n",
      "Requirement already satisfied: threadpoolctl>=2.0.0 in c:\\users\\keshav anand\\appdata\\local\\programs\\python\\python37\\lib\\site-packages (from scikit-learn>=0.16->hmmlearn) (2.2.0)\n",
      "Requirement already satisfied: joblib>=0.11 in c:\\users\\keshav anand\\appdata\\local\\programs\\python\\python37\\lib\\site-packages (from scikit-learn>=0.16->hmmlearn) (1.0.1)\n"
     ]
    },
    {
     "name": "stderr",
     "output_type": "stream",
     "text": [
      "WARNING: You are using pip version 21.1.3; however, version 21.2.4 is available.\n",
      "You should consider upgrading via the 'c:\\users\\keshav anand\\appdata\\local\\programs\\python\\python37\\python.exe -m pip install --upgrade pip' command.\n"
     ]
    }
   ],
   "source": [
    "! pip install hmmlearn"
   ]
  },
  {
   "cell_type": "code",
   "execution_count": 74,
   "id": "junior-button",
   "metadata": {},
   "outputs": [],
   "source": [
    "from hmmlearn import hmm"
   ]
  },
  {
   "cell_type": "code",
   "execution_count": 79,
   "id": "broad-syndrome",
   "metadata": {},
   "outputs": [],
   "source": [
    "# Implementing hmm\n",
    "# fitting hmm for each activity\n",
    "def HMM_F1score(N, M, labels_true):\n",
    "    hmm_stand = hmm.GMMHMM(n_components = N, n_mix = M, covariance_type = 'diag')\n",
    "    hmm_sit = hmm.GMMHMM(n_components = N, n_mix = M, covariance_type = 'diag')\n",
    "    hmm_lay = hmm.GMMHMM(n_components = N, n_mix = M, covariance_type = 'diag')\n",
    "    hmm_walk = hmm.GMMHMM(n_components = N, n_mix = M, covariance_type = 'diag')\n",
    "    hmm_walk_d = hmm.GMMHMM(n_components = N, n_mix = M, covariance_type = 'diag')\n",
    "    hmm_walk_u = hmm.GMMHMM(n_components = N, n_mix = M, covariance_type = 'diag')\n",
    "    \n",
    "    hmm_stand.fit(df_train_red_STAND.iloc[:, 0:100].values)\n",
    "    hmm_sit.fit(df_train_red_SIT.iloc[:, 0:100].values)\n",
    "    hmm_lay.fit(df_train_red_LAY.iloc[:, 0:100].values)\n",
    "    hmm_walk.fit(df_train_red_WALK.iloc[:, 0:100].values)\n",
    "    hmm_walk_d.fit(df_train_red_WALK_D.iloc[:, 0:100].values)    \n",
    "    hmm_walk_u.fit(df_train_red_WALK_U.iloc[:, 0:100].values)\n",
    "    \n",
    "    # calculating f1 score\n",
    "    labels_predict = []\n",
    "    for i in range(len(df_test_red)):\n",
    "        log_likelihood_value = np.array([hmm_stand.score(df_test_red.iloc[i, 0:100].values.reshape((1,100))), hmm_sit.score(df_test_red.iloc[i, 0:100].values.reshape((1,100))), hmm_lay.score(df_test_red.iloc[i, 0:100].values.reshape((1,100))), hmm_walk.score(df_test_red.iloc[i, 0:100].values.reshape((1,100))), hmm_walk_d.score(df_test_red.iloc[i, 0:100].values.reshape((1,100))), hmm_walk_u.score(df_test_red.iloc[i, 0:100].values.reshape((1,100)))])\n",
    "        labels_predict.append(np.argmax(log_likelihood_value))\n",
    "    labels_predict = np.array(labels_predict)\n",
    "    \n",
    "    F1 = f1_score(labels_true, labels_predict, average = 'micro')\n",
    "    acc = accuracy_score(labels_true, labels_predict)\n",
    "    return F1,acc"
   ]
  },
  {
   "cell_type": "code",
   "execution_count": 80,
   "id": "integral-picture",
   "metadata": {},
   "outputs": [
    {
     "data": {
      "text/plain": [
       "array([ 1,  2,  3,  4,  5,  6,  7,  8,  9, 10, 11, 12, 13, 14, 15, 16, 17,\n",
       "       18, 19, 20, 21, 22, 23, 24, 25, 26, 27, 28, 29, 30, 31, 32, 33, 34,\n",
       "       35])"
      ]
     },
     "execution_count": 80,
     "metadata": {},
     "output_type": "execute_result"
    }
   ],
   "source": [
    "states = np.arange(1, 36, 1)\n",
    "states"
   ]
  },
  {
   "cell_type": "code",
   "execution_count": 82,
   "id": "assigned-steal",
   "metadata": {},
   "outputs": [
    {
     "name": "stdout",
     "output_type": "stream",
     "text": [
      "HMM has been trained for num_states = 1\n",
      "HMM has been trained for num_states = 2\n",
      "HMM has been trained for num_states = 3\n",
      "HMM has been trained for num_states = 4\n",
      "HMM has been trained for num_states = 5\n",
      "HMM has been trained for num_states = 6\n",
      "HMM has been trained for num_states = 7\n",
      "HMM has been trained for num_states = 8\n",
      "HMM has been trained for num_states = 9\n",
      "HMM has been trained for num_states = 10\n",
      "HMM has been trained for num_states = 11\n",
      "HMM has been trained for num_states = 12\n",
      "HMM has been trained for num_states = 13\n",
      "HMM has been trained for num_states = 14\n",
      "HMM has been trained for num_states = 15\n",
      "HMM has been trained for num_states = 16\n",
      "HMM has been trained for num_states = 17\n",
      "HMM has been trained for num_states = 18\n",
      "HMM has been trained for num_states = 19\n",
      "HMM has been trained for num_states = 20\n",
      "HMM has been trained for num_states = 21\n",
      "HMM has been trained for num_states = 22\n",
      "HMM has been trained for num_states = 23\n",
      "HMM has been trained for num_states = 24\n",
      "HMM has been trained for num_states = 25\n",
      "HMM has been trained for num_states = 26\n",
      "HMM has been trained for num_states = 27\n",
      "HMM has been trained for num_states = 28\n",
      "HMM has been trained for num_states = 29\n",
      "HMM has been trained for num_states = 30\n",
      "HMM has been trained for num_states = 31\n",
      "HMM has been trained for num_states = 32\n",
      "HMM has been trained for num_states = 33\n",
      "HMM has been trained for num_states = 34\n",
      "HMM has been trained for num_states = 35\n"
     ]
    },
    {
     "data": {
      "image/png": "[encoded data removed]",
      "text/plain": [
       "<Figure size 432x288 with 2 Axes>"
      ]
     },
     "metadata": {
      "needs_background": "light"
     },
     "output_type": "display_data"
    }
   ],
   "source": [
    "F1_value_states = []\n",
    "acc_value_states = []\n",
    "for i in states:\n",
    "    print(\"HMM has been trained for num_states = {}\".format(i))\n",
    "    f1,acc = HMM_F1score(i, 1, labels_true)\n",
    "    F1_value_states.append(f1)\n",
    "    acc_value_states.append(acc)\n",
    "fig, ax = plt.subplots(2,1)\n",
    "\n",
    "ax[0].plot(F1_value_states)\n",
    "ax[1].plot(acc_value_states)\n",
    "\n",
    "plt.show()"
   ]
  },
  {
   "cell_type": "code",
   "execution_count": 83,
   "id": "working-orbit",
   "metadata": {},
   "outputs": [
    {
     "data": {
      "image/png": "[encoded data removed]",
      "text/plain": [
       "<Figure size 432x288 with 2 Axes>"
      ]
     },
     "metadata": {
      "needs_background": "light"
     },
     "output_type": "display_data"
    }
   ],
   "source": [
    "f_test = []\n",
    "acc_test = []\n",
    "\n",
    "for i in range(1, 6):\n",
    "    f1, acc1 = HMM_F1score(3, i, labels_true)\n",
    "    f_test.append(f1)\n",
    "    acc_test.append(acc1)\n",
    "    \n",
    "fig, ax = plt.subplots(2,1)\n",
    "\n",
    "ax[0].plot(f_test)\n",
    "ax[1].plot(acc_test)\n",
    "\n",
    "plt.show()"
   ]
  },
  {
   "cell_type": "code",
   "execution_count": 84,
   "id": "embedded-distinction",
   "metadata": {},
   "outputs": [
    {
     "name": "stdout",
     "output_type": "stream",
     "text": [
      "0.4116050220563285\n",
      "0.4116050220563285\n"
     ]
    }
   ],
   "source": [
    "f1_val, acc_val = HMM_F1score(3, 8, labels_true)\n",
    "print(f1_val)\n",
    "print(acc_val)"
   ]
  },
  {
   "cell_type": "code",
   "execution_count": null,
   "id": "abroad-lucas",
   "metadata": {},
   "outputs": [],
   "source": []
  }
 ],
 "metadata": {
  "kernelspec": {
   "display_name": "Python 3",
   "language": "python",
   "name": "python3"
  },
  "language_info": {
   "codemirror_mode": {
    "name": "ipython",
    "version": 3
   },
   "file_extension": ".py",
   "mimetype": "text/x-python",
   "name": "python",
   "nbconvert_exporter": "python",
   "pygments_lexer": "ipython3",
   "version": "3.7.4"
  }
 },
 "nbformat": 4,
 "nbformat_minor": 5
}
