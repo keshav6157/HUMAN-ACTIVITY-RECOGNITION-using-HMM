{
 "cells": [
  {
   "cell_type": "code",
   "execution_count": 6,
   "id": "sustainable-manufacturer",
   "metadata": {},
   "outputs": [],
   "source": [
    "import numpy as np"
   ]
  },
  {
   "cell_type": "code",
   "execution_count": 7,
   "id": "nuclear-starter",
   "metadata": {},
   "outputs": [],
   "source": [
    "# state transition matrix\n",
    "A = np.array([[0.1, 0.5, 0.4],\n",
    "              [0.6, 0.3, 0.1],\n",
    "              [0.3, 0.6, 0.1]])\n",
    "\n",
    "# state-output association probability matrix\n",
    "B = np.array([[0.3, 0.4, 0.3],\n",
    "              [0.4, 0.2, 0.4],\n",
    "              [0.6, 0.2, 0.2]])\n",
    "\n",
    "# Initial probability vector\n",
    "P = np.array([0.3, 0.4, 0.3])\n",
    "\n",
    "# Observable state vector\n",
    "O = [1, 2, 0]"
   ]
  },
  {
   "cell_type": "code",
   "execution_count": 8,
   "id": "medieval-terrorist",
   "metadata": {},
   "outputs": [],
   "source": [
    "def forward_var(A, B, P, O):\n",
    "    T = len(O)\n",
    "    N = A.shape[0]\n",
    "    alpha = np.zeros((T, N))\n",
    "    for t in range(alpha.shape[0]):\n",
    "        for i in range(alpha.shape[1]):\n",
    "            if t == 0:\n",
    "                alpha[t, i] = B[i, O[0]]*P[i]\n",
    "            else:\n",
    "                sum1 = 0\n",
    "                for k in range(A.shape[0]):\n",
    "                    sum1 += alpha[t-1, k]*A[k, i]\n",
    "                alpha[t,i] = sum1*B[i, O[t]]\n",
    "    return (alpha)"
   ]
  },
  {
   "cell_type": "code",
   "execution_count": 10,
   "id": "basic-berkeley",
   "metadata": {},
   "outputs": [
    {
     "name": "stdout",
     "output_type": "stream",
     "text": [
      "[[0.12     0.08     0.06    ]\n",
      " [0.0234   0.048    0.0124  ]\n",
      " [0.010458 0.013416 0.00924 ]]\n"
     ]
    }
   ],
   "source": [
    "alpha = forward_var(A, B, P, O)\n",
    "print(alpha)"
   ]
  },
  {
   "cell_type": "code",
   "execution_count": 11,
   "id": "adopted-lobby",
   "metadata": {},
   "outputs": [],
   "source": [
    "def backward_var(A, B, P, O):\n",
    "    T = len(O)\n",
    "    N = A.shape[0]\n",
    "    beta = np.zeros((T, N))\n",
    "    for t in range(beta.shape[0]):\n",
    "        for i in range(beta.shape[1]):\n",
    "            if t == beta.shape[0]-1:\n",
    "                beta[t, i] = 1\n",
    "            else:\n",
    "                sum1 = 0\n",
    "                for j in range(A.shape[0]):\n",
    "                    sum1 += A[i, j]*B[j, O[t+1]]*beta[t+1, j]\n",
    "                beta[t,i] = sum1\n",
    "    return (beta)  "
   ]
  },
  {
   "cell_type": "code",
   "execution_count": 12,
   "id": "weekly-camera",
   "metadata": {},
   "outputs": [
    {
     "name": "stdout",
     "output_type": "stream",
     "text": [
      "[[0. 0. 0.]\n",
      " [0. 0. 0.]\n",
      " [1. 1. 1.]]\n"
     ]
    }
   ],
   "source": [
    "beta = backward_var(A, B, P, O)\n",
    "print(beta)"
   ]
  },
  {
   "cell_type": "code",
   "execution_count": 13,
   "id": "missing-marking",
   "metadata": {},
   "outputs": [],
   "source": [
    "def forward_eval(alpha):\n",
    "    prob = np.sum(alpha[-1, :])\n",
    "    return prob"
   ]
  },
  {
   "cell_type": "code",
   "execution_count": 15,
   "id": "ecological-georgia",
   "metadata": {},
   "outputs": [
    {
     "name": "stdout",
     "output_type": "stream",
     "text": [
      "0.033114000000000005\n"
     ]
    }
   ],
   "source": [
    "forward_prob = forward_eval(alpha)\n",
    "print(forward_prob)"
   ]
  },
  {
   "cell_type": "code",
   "execution_count": 18,
   "id": "ordinary-baltimore",
   "metadata": {},
   "outputs": [],
   "source": [
    "def backward_eval(B, beta, O):\n",
    "    vec1 = np.ravel(B[:, O[0]])\n",
    "    vec2 = np.ravel(beta[0, :])\n",
    "    prob = np.dot(vec1, vec2)\n",
    "    return prob"
   ]
  },
  {
   "cell_type": "code",
   "execution_count": 20,
   "id": "matched-object",
   "metadata": {},
   "outputs": [
    {
     "name": "stdout",
     "output_type": "stream",
     "text": [
      "0.0\n"
     ]
    }
   ],
   "source": [
    "backward_prob = backward_eval(B, beta, O)\n",
    "print(backward_prob)"
   ]
  },
  {
   "cell_type": "code",
   "execution_count": 21,
   "id": "valuable-oxford",
   "metadata": {},
   "outputs": [],
   "source": [
    "def gammaeval(alpha, beta):\n",
    "    gamma = np.multiply(alpha, beta)\n",
    "    statewise_sum = np.sum(gamma, axis = 1)\n",
    "    statewise_sum = statewise_sum.reshape(len(statewise_sum), 1)\n",
    "    gamma = gamma/statewise_sum\n",
    "    return gamma"
   ]
  },
  {
   "cell_type": "code",
   "execution_count": 22,
   "id": "regional-elimination",
   "metadata": {},
   "outputs": [
    {
     "name": "stdout",
     "output_type": "stream",
     "text": [
      "[[       nan        nan        nan]\n",
      " [       nan        nan        nan]\n",
      " [0.31581808 0.40514586 0.27903606]]\n"
     ]
    },
    {
     "name": "stderr",
     "output_type": "stream",
     "text": [
      "c:\\users\\keshav anand\\appdata\\local\\programs\\python\\python37\\lib\\site-packages\\ipykernel_launcher.py:5: RuntimeWarning: invalid value encountered in true_divide\n",
      "  \"\"\"\n"
     ]
    }
   ],
   "source": [
    "gamma = gammaeval(alpha, beta)\n",
    "print(gamma)"
   ]
  },
  {
   "cell_type": "code",
   "execution_count": 23,
   "id": "veterinary-quantity",
   "metadata": {},
   "outputs": [],
   "source": [
    "def viterbi(A, B, P, O):\n",
    "    T = len(O)\n",
    "    N = A.shape[0]\n",
    "    delta = np.zeros((T, N))\n",
    "    psi = np.zeros((T, N))\n",
    "    optim_state = []\n",
    "    for t in range(delta.shape[0]):\n",
    "        for i in range(delta.shape[1]):\n",
    "            if t == 0:\n",
    "                delta[t, i] = B[i, O[0]]*P[i]\n",
    "            else:\n",
    "                ls = []\n",
    "                for k in range(N):\n",
    "                    val = delta[t-1, k]*A[k, i]*B[i, O[t]]\n",
    "                    ls.append(val)\n",
    "                arr = np.array(ls)\n",
    "                max_val = np.max(arr)\n",
    "                max_val_idx = np.argmax(arr)\n",
    "                delta[t, i] = max_val\n",
    "                psi[t, i] = max_val_idx\n",
    "    final_state_val = np.ravel(delta[-1, :])\n",
    "    idx = np.argmax(final_state_val)\n",
    "    optim_state.append(idx)\n",
    "    for t in range(T-2, -1, -1):\n",
    "        idx = psi[t, idx]\n",
    "        idx = int(idx)\n",
    "        optim_state.append(idx)\n",
    "        \n",
    "    optim_state = optim_state[::-1]\n",
    "    return optim_state\n",
    "    "
   ]
  },
  {
   "cell_type": "code",
   "execution_count": 24,
   "id": "tired-senate",
   "metadata": {},
   "outputs": [
    {
     "name": "stdout",
     "output_type": "stream",
     "text": [
      "[0, 1, 0]\n"
     ]
    }
   ],
   "source": [
    "optim_state = viterbi(A, B, P, O)\n",
    "print(optim_state)"
   ]
  },
  {
   "cell_type": "code",
   "execution_count": 25,
   "id": "defensive-establishment",
   "metadata": {},
   "outputs": [],
   "source": [
    "def joint_state_measure(A, B, alpha, beta, O):\n",
    "    T = len(O)\n",
    "    N = A.shape[0]\n",
    "    eta = np.zeros((T-1, N, N))\n",
    "    for t in range(eta.shape[0]):\n",
    "        sum1 = 0\n",
    "        for i in range(eta.shape[1]):\n",
    "            for j in range(eta.shape[2]):\n",
    "                eta[t, i, j] = alpha[t, i]*A[i, j]*B[j, O[t+1]]*beta[t+1, j]\n",
    "                sum1 = eta[t, i, j]\n",
    "    eta[t, :, :] = eta[t, :, :]/sum1\n",
    "    return eta"
   ]
  },
  {
   "cell_type": "code",
   "execution_count": 26,
   "id": "included-river",
   "metadata": {},
   "outputs": [
    {
     "name": "stdout",
     "output_type": "stream",
     "text": [
      "[[[ 0.          0.          0.        ]\n",
      "  [ 0.          0.          0.        ]\n",
      "  [ 0.          0.          0.        ]]\n",
      "\n",
      " [[ 0.94354839  6.29032258  7.5483871 ]\n",
      "  [11.61290323  7.74193548  3.87096774]\n",
      "  [ 1.5         4.          1.        ]]]\n"
     ]
    }
   ],
   "source": [
    "eta = joint_state_measure(A, B, alpha, beta, O)\n",
    "print(eta)"
   ]
  },
  {
   "cell_type": "code",
   "execution_count": 29,
   "id": "revolutionary-bolivia",
   "metadata": {},
   "outputs": [],
   "source": [
    "def baum_welch(eta, gamma, A, B, P, O):\n",
    "    N = A.shape[0]\n",
    "    M = B.shape[1]\n",
    "    mod_A = np.zeros((N, N))\n",
    "    mod_B = np.zeros((N, M))\n",
    "    mod_P = np.zeros(N)\n",
    "    \n",
    "    for i in range(len(mod_P)):\n",
    "        mod_P[i] = gamma[0, i] \n",
    "        \n",
    "    for i in range(mod_A.shape[0]):\n",
    "        for j in range(mod_A.shape[1]):\n",
    "            num_sum = 0\n",
    "            denom_sum = 0\n",
    "            for t in range(eta.shape[0]):\n",
    "                num_sum += eta[t, i, j]\n",
    "                denom_sum += gamma[t, i]\n",
    "            a = num_sum/denom_sum\n",
    "            mod_A[i, j] = a\n",
    "            \n",
    "    for j in range(B.shape[0]):\n",
    "        for k in range(B.shape[1]):\n",
    "            num_sum = 0\n",
    "            denom_sum = 0\n",
    "            for t in range(gamma.shape[0]):\n",
    "                if O[t] == k:\n",
    "                    num_sum += gamma[t, j]\n",
    "                    denom_sum += gamma[t, i]\n",
    "            b = num_sum/denom_sum\n",
    "            mod_B[j, k] = b"
   ]
  },
  {
   "cell_type": "code",
   "execution_count": 32,
   "id": "skilled-spectacular",
   "metadata": {},
   "outputs": [],
   "source": [
    "baum_welch(eta, gamma, A, B, P, O)"
   ]
  }
 ],
 "metadata": {
  "kernelspec": {
   "display_name": "Python 3",
   "language": "python",
   "name": "python3"
  },
  "language_info": {
   "codemirror_mode": {
    "name": "ipython",
    "version": 3
   },
   "file_extension": ".py",
   "mimetype": "text/x-python",
   "name": "python",
   "nbconvert_exporter": "python",
   "pygments_lexer": "ipython3",
   "version": "3.7.4"
  }
 },
 "nbformat": 4,
 "nbformat_minor": 5
}
